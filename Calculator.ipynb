{
 "cells": [
  {
   "cell_type": "code",
   "execution_count": null,
   "metadata": {
    "collapsed": true
   },
   "outputs": [],
   "source": [
    "def add_numbers (a,b):\n",
    "    return(a+b)\n",
    "def sub_numbers (a,b):\n",
    "    return(a-b)\n",
    "def mul_numbers (a,b):\n",
    "    return(a*b)\n",
    "def div_numbers (a,b):\n",
    "    if b != 0 :\n",
    "        return (a / b)\n",
    "    else:\n",
    "        print('Error; Dividing by Zero !')\n",
    "\n",
    "def calculator ():\n",
    "    a = int(input('Please enter first number '))\n",
    "    b = int(input('Please enter second number '))\n",
    "    f = input('Please choose function:\\n(a)dd\\t(s)ubtract\\t(m)ultiply\\t(d)ivide ')\n",
    "    if f == 'a':\n",
    "        r = add_numbers(a,b)\n",
    "        print('{} + {} = {}'.format(a,b,r))\n",
    "    elif f == 's':\n",
    "        r = sub_numbers(a,b)\n",
    "        print('{} - {} = {}'.format(a,b,r))\n",
    "    elif f == 'm':\n",
    "        r = mul_numbers(a,b)\n",
    "        print('{} x {} = {}'.format(a,b,r))\n",
    "    elif f == 'd':\n",
    "        r = div_numbers(a,b)\n",
    "        print('{} / {} = {}'.format(a,b,r))\n",
    "    \n",
    "    c = input('Do you wish to continue?(y/n)')\n",
    "    if c == 'y':\n",
    "        calculator()    #Recalls itself to start from the beginning.\n",
    "    else:\n",
    "        return"
   ]
  }
 ],
 "metadata": {
  "kernelspec": {
   "display_name": "Python 3",
   "language": "python",
   "name": "python3"
  },
  "language_info": {
   "codemirror_mode": {
    "name": "ipython",
    "version": 3
   },
   "file_extension": ".py",
   "mimetype": "text/x-python",
   "name": "python",
   "nbconvert_exporter": "python",
   "pygments_lexer": "ipython3",
   "version": "3.6.1"
  }
 },
 "nbformat": 4,
 "nbformat_minor": 2
}
